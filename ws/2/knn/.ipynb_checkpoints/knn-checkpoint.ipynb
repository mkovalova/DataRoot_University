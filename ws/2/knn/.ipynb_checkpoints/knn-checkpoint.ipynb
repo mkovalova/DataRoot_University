{
 "cells": [
  {
   "cell_type": "markdown",
   "metadata": {
    "collapsed": true
   },
   "source": [
    "# KNN"
   ]
  },
  {
   "cell_type": "code",
   "execution_count": 1,
   "metadata": {
    "collapsed": true
   },
   "outputs": [],
   "source": [
    "import numpy as np\n",
    "import pandas as pd\n",
    "import time\n",
    "from scipy.spatial.distance import euclidean\n",
    "from scipy import stats\n",
    "from matplotlib import pyplot as plt"
   ]
  },
  {
   "cell_type": "markdown",
   "metadata": {},
   "source": [
    "## Roadmap\n",
    "1. Calculate all distancies between known and unknown points\n",
    "2. Predict class of unknown point by the k nearest neighbours\n",
    "\n"
   ]
  },
  {
   "cell_type": "code",
   "execution_count": 2,
   "metadata": {
    "collapsed": true
   },
   "outputs": [],
   "source": [
    "def calc_all_distancies(data_x, unknown):\n",
    "    '''\n",
    "        Function calculates distancies between each pairs of known and unknown points\n",
    "    '''\n",
    "    num_pred = unknown.shape[0]\n",
    "    num_data = data_x.shape[0]\n",
    "    dists = np.zeros((num_pred,num_data))\n",
    "    for i in range(num_pred):\n",
    "        for j in range(num_data):\n",
    "            dists[i,j] = euclidean(unknown[i],data_x[j])\n",
    "    return dists"
   ]
  },
  {
   "cell_type": "code",
   "execution_count": null,
   "metadata": {
    "collapsed": true
   },
   "outputs": [],
   "source": [
    "def predict(dists, data_y, k):\n",
    "    '''\n",
    "        Function predicts the class of the unknown point by the k nearest neighbours\n",
    "    '''\n",
    "    num_pred = dists.shape[0] # data_y.shape[0]\n",
    "    y_pred = np.zeros(num_pred)\n",
    "    for j in range(num_pred):\n",
    "        dst = dists[j]\n",
    "        closest_x = np.argsort(dst)\n",
    "        x_k = closest_x[:k]\n",
    "        closest_y = data_y[x_k]\n",
    "        y_pred[j] = stats.mode(closest_y,None).mode\n",
    "    return y_pred"
   ]
  },
  {
   "cell_type": "code",
   "execution_count": null,
   "metadata": {
    "collapsed": true
   },
   "outputs": [],
   "source": [
    "def accuracy(predicted,real):\n",
    "    '''\n",
    "        Calculates accuracy percentage\n",
    "    '''\n",
    "    num_pred = dists.shape[0] # data_y.shape[0]\n",
    "    y_pred = np.zeros(num_pred)\n",
    "    for j in range(num_pred):\n",
    "        dst = dists[j]\n",
    "        closest_y = data_y[dst.argsort()[:k]]\n",
    "        import pdb;pdb.set_trace()\n",
    "        y_pred[j] = stats.mode(closest_y,None).mode\n",
    "    return y_pred\n",
    "    "
   ]
  },
  {
   "cell_type": "code",
   "execution_count": null,
   "metadata": {
    "collapsed": true
   },
   "outputs": [],
   "source": [
    "def compare_k(data_x, data_y, test_x, test_y, kmin=1, kmax=50, kstep=4):\n",
    "    '''\n",
    "        Main comparing function\n",
    "    '''\n",
    "    k = list(range(kmin, kmax, kstep))\n",
    "    steps = len(k)\n",
    "    features = np.zeros((steps,3))\n",
    "    \n",
    "    print('Evaluating distancies started')\n",
    "    \n",
    "    t0 = time.time()\n",
    "    distancies = calc_all_distancies(data_x,test_x)\n",
    "    miss = []\n",
    "    t = time.time()\n",
    "    s1 = data_x.shape[0]\n",
    "    s2 = test_x.shape[0]\n",
    "    \n",
    "    print('Distancies completed in %d seconds for %dx%d' %(t-t0,s1,s2))\n",
    "    \n",
    "    for j in range(steps):\n",
    "        t0 = time.time()\n",
    "        yk = predict(distancies,data_y,k[j])\n",
    "        t = time.time() - t0\n",
    "        features[j][0] = k[j]\n",
    "        features[j][1] = accuracy(yk,test_y)\n",
    "        features[j][2] = t\n",
    "        cond = yk!=test_y\n",
    "        miss.append({\n",
    "            'k':k[j],\n",
    "            'acc':features[j][1],\n",
    "            'x':test_x[cond]}\n",
    "        )\n",
    "        \n",
    "        print('k={0}, accuracy = {1}%, time = {2} sec'.format(k[j],features[j][1],features[j][2]))\n",
    "        \n",
    "    return features, miss"
   ]
  },
  {
   "cell_type": "code",
   "execution_count": null,
   "metadata": {
    "collapsed": true
   },
   "outputs": [],
   "source": [
    "num_observations = 300\n",
    "x1 = np.random.multivariate_normal([0, 0], [[1, .75], [.75, 1]], num_observations)\n",
    "x2 = np.random.multivariate_normal([-2, 3], [[2, .75], [.75, 2]], num_observations)\n",
    "\n",
    "\n",
    "X = np.vstack((x1, x2)).astype(np.float32)\n",
    "Y = np.hstack((np.zeros(num_observations),\n",
    "               np.ones(num_observations)))\n",
    "\n"
   ]
  },
  {
   "cell_type": "markdown",
   "metadata": {},
   "source": [
    "## Select some part of data to be tested"
   ]
  },
  {
   "cell_type": "code",
   "execution_count": null,
   "metadata": {
    "collapsed": false
   },
   "outputs": [],
   "source": [
    "l = len(X)\n",
    "train_ind = np.ones(l, dtype=bool)\n",
    "test_part = 0.20\n",
    "train_ind[np.unique(np.random.randint(1, l, int(test_part * l)))] = False\n",
    "test_ind = np.logical_not(train_ind)\n",
    "\n",
    "x_trn = X[train_ind]\n",
    "y_trn = Y[train_ind]\n",
    "x_tst = X[test_ind]\n",
    "y_tst = Y[test_ind]\n",
    "print(x_tst.shape)\n",
    "plt.scatter(x_tst[:,0],x_tst[:,1],color='b',label='test')\n",
    "plt.legend(loc='best')"
   ]
  },
  {
   "cell_type": "markdown",
   "metadata": {},
   "source": [
    "## Calculate distancies & compare result for different k"
   ]
  },
  {
   "cell_type": "code",
   "execution_count": null,
   "metadata": {
    "collapsed": false,
    "scrolled": true
   },
   "outputs": [],
   "source": [
    "res, ms = compare_k(x_trn, y_trn, x_tst, y_tst,1,201,20)"
   ]
  },
  {
   "cell_type": "markdown",
   "metadata": {},
   "source": [
    "## Visualisation"
   ]
  },
  {
   "cell_type": "code",
   "execution_count": 13,
   "metadata": {
    "collapsed": false
   },
   "outputs": [
    {
     "ename": "NameError",
     "evalue": "name 'ms' is not defined",
     "output_type": "error",
     "traceback": [
      "\u001b[0;31m---------------------------------------------------------------------------\u001b[0m",
      "\u001b[0;31mNameError\u001b[0m                                 Traceback (most recent call last)",
      "\u001b[0;32m<ipython-input-13-8f43031b31fc>\u001b[0m in \u001b[0;36m<module>\u001b[0;34m()\u001b[0m\n\u001b[1;32m     12\u001b[0m \u001b[0mplt\u001b[0m\u001b[0;34m.\u001b[0m\u001b[0mscatter\u001b[0m\u001b[0;34m(\u001b[0m\u001b[0mx1\u001b[0m\u001b[0;34m[\u001b[0m\u001b[0;34m:\u001b[0m\u001b[0;34m,\u001b[0m \u001b[0;36m0\u001b[0m\u001b[0;34m]\u001b[0m\u001b[0;34m,\u001b[0m \u001b[0mx1\u001b[0m\u001b[0;34m[\u001b[0m\u001b[0;34m:\u001b[0m\u001b[0;34m,\u001b[0m \u001b[0;36m1\u001b[0m\u001b[0;34m]\u001b[0m\u001b[0;34m,\u001b[0m \u001b[0mcolor\u001b[0m\u001b[0;34m=\u001b[0m\u001b[0;34m'c'\u001b[0m\u001b[0;34m,\u001b[0m \u001b[0mlabel\u001b[0m\u001b[0;34m=\u001b[0m\u001b[0;34m'class1'\u001b[0m\u001b[0;34m)\u001b[0m\u001b[0;34m\u001b[0m\u001b[0m\n\u001b[1;32m     13\u001b[0m \u001b[0mplt\u001b[0m\u001b[0;34m.\u001b[0m\u001b[0mscatter\u001b[0m\u001b[0;34m(\u001b[0m\u001b[0mx2\u001b[0m\u001b[0;34m[\u001b[0m\u001b[0;34m:\u001b[0m\u001b[0;34m,\u001b[0m \u001b[0;36m0\u001b[0m\u001b[0;34m]\u001b[0m\u001b[0;34m,\u001b[0m \u001b[0mx2\u001b[0m\u001b[0;34m[\u001b[0m\u001b[0;34m:\u001b[0m\u001b[0;34m,\u001b[0m \u001b[0;36m1\u001b[0m\u001b[0;34m]\u001b[0m\u001b[0;34m,\u001b[0m \u001b[0mcolor\u001b[0m\u001b[0;34m=\u001b[0m\u001b[0;34m'y'\u001b[0m\u001b[0;34m,\u001b[0m \u001b[0mlabel\u001b[0m\u001b[0;34m=\u001b[0m\u001b[0;34m'class2'\u001b[0m\u001b[0;34m)\u001b[0m\u001b[0;34m\u001b[0m\u001b[0m\n\u001b[0;32m---> 14\u001b[0;31m \u001b[0mplt\u001b[0m\u001b[0;34m.\u001b[0m\u001b[0mscatter\u001b[0m\u001b[0;34m(\u001b[0m\u001b[0mms\u001b[0m\u001b[0;34m[\u001b[0m\u001b[0;34m-\u001b[0m\u001b[0;36m1\u001b[0m\u001b[0;34m]\u001b[0m\u001b[0;34m[\u001b[0m\u001b[0;34m'x'\u001b[0m\u001b[0;34m]\u001b[0m\u001b[0;34m[\u001b[0m\u001b[0;34m:\u001b[0m\u001b[0;34m,\u001b[0m\u001b[0;36m0\u001b[0m\u001b[0;34m]\u001b[0m\u001b[0;34m,\u001b[0m\u001b[0mms\u001b[0m\u001b[0;34m[\u001b[0m\u001b[0;34m-\u001b[0m\u001b[0;36m1\u001b[0m\u001b[0;34m]\u001b[0m\u001b[0;34m[\u001b[0m\u001b[0;34m'x'\u001b[0m\u001b[0;34m]\u001b[0m\u001b[0;34m[\u001b[0m\u001b[0;34m:\u001b[0m\u001b[0;34m,\u001b[0m\u001b[0;36m1\u001b[0m\u001b[0;34m]\u001b[0m\u001b[0;34m,\u001b[0m\u001b[0mcolor\u001b[0m\u001b[0;34m=\u001b[0m\u001b[0;34m'r'\u001b[0m\u001b[0;34m,\u001b[0m\u001b[0mlabel\u001b[0m\u001b[0;34m=\u001b[0m\u001b[0;34m'missidenity,k=%d'\u001b[0m\u001b[0;34m%\u001b[0m\u001b[0mms\u001b[0m\u001b[0;34m[\u001b[0m\u001b[0;34m-\u001b[0m\u001b[0;36m1\u001b[0m\u001b[0;34m]\u001b[0m\u001b[0;34m[\u001b[0m\u001b[0;34m'k'\u001b[0m\u001b[0;34m]\u001b[0m\u001b[0;34m)\u001b[0m\u001b[0;34m\u001b[0m\u001b[0m\n\u001b[0m\u001b[1;32m     15\u001b[0m \u001b[0mplt\u001b[0m\u001b[0;34m.\u001b[0m\u001b[0mlegend\u001b[0m\u001b[0;34m(\u001b[0m\u001b[0mloc\u001b[0m\u001b[0;34m=\u001b[0m\u001b[0;34m'best'\u001b[0m\u001b[0;34m)\u001b[0m\u001b[0;34m\u001b[0m\u001b[0m\n\u001b[1;32m     16\u001b[0m \u001b[0mplt\u001b[0m\u001b[0;34m.\u001b[0m\u001b[0mxlabel\u001b[0m\u001b[0;34m(\u001b[0m\u001b[0;34m'x1'\u001b[0m\u001b[0;34m)\u001b[0m\u001b[0;34m\u001b[0m\u001b[0m\n",
      "\u001b[0;31mNameError\u001b[0m: name 'ms' is not defined"
     ]
    }
   ],
   "source": [
    "# initial data\n",
    "fig = plt.figure()\n",
    "plt.scatter(x1[:, 0], x1[:, 1], color='c',label='class1')\n",
    "plt.scatter(x2[:, 0], x2[:, 1], color='y',label='class2')\n",
    "# randomly selected data\n",
    "plt.scatter(x_tst[:,0],x_tst[:,1],color='b',label='test')\n",
    "plt.legend(loc='best')\n",
    "\n",
    "\n",
    "# missidentifies for k = value\n",
    "plt.figure()\n",
    "plt.scatter(x1[:, 0], x1[:, 1], color='c', label='class1')\n",
    "plt.scatter(x2[:, 0], x2[:, 1], color='y', label='class2')\n",
    "plt.scatter(ms[-1]['x'][:,0],ms[-1]['x'][:,1],color='r',label='missidenity,k=%d'%ms[-1]['k'])\n",
    "plt.legend(loc='best')\n",
    "plt.xlabel('x1')\n",
    "plt.ylabel('x2')\n",
    "plt.figure()\n",
    "\n",
    "# accuracy plot\n",
    "k = plt.scatter(res[:, 0], res[:, 1])\n",
    "plt.ylim(min(res[:, 1]) - 2, max(res[:, 1])+1, 4)\n",
    "plt.xlabel('k')\n",
    "plt.ylabel('accuracy, %')\n",
    "plt.show()"
   ]
  },
  {
   "cell_type": "code",
   "execution_count": null,
   "metadata": {
    "collapsed": true
   },
   "outputs": [],
   "source": []
  }
 ],
 "metadata": {
  "kernelspec": {
   "display_name": "Python 3",
   "language": "python",
   "name": "python3"
  },
  "language_info": {
   "codemirror_mode": {
    "name": "ipython",
    "version": 3
   },
   "file_extension": ".py",
   "mimetype": "text/x-python",
   "name": "python",
   "nbconvert_exporter": "python",
   "pygments_lexer": "ipython3",
   "version": "3.6.0"
  }
 },
 "nbformat": 4,
 "nbformat_minor": 0
}
