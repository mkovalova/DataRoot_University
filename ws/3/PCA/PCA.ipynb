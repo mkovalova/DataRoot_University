{
 "cells": [
  {
   "cell_type": "code",
   "execution_count": 1,
   "metadata": {},
   "outputs": [
    {
     "name": "stdout",
     "output_type": "stream",
     "text": [
      "Requirement already satisfied: Pillow in /anaconda3/lib/python3.6/site-packages\r\n",
      "Requirement already satisfied: olefile in /anaconda3/lib/python3.6/site-packages (from Pillow)\r\n"
     ]
    }
   ],
   "source": [
    "!pip install Pillow"
   ]
  },
  {
   "cell_type": "code",
   "execution_count": 2,
   "metadata": {
    "collapsed": true
   },
   "outputs": [],
   "source": [
    "import numpy as np\n",
    "from matplotlib import pyplot as plt"
   ]
  },
  {
   "cell_type": "code",
   "execution_count": 3,
   "metadata": {
    "collapsed": true
   },
   "outputs": [],
   "source": [
    "def normalize(X):\n",
    "    '''\n",
    "      Normalise data before processing\n",
    "      Return normalized data and normalization parameters\n",
    "    '''\n",
    "    num = X.shape[1]\n",
    "    norm_params = np.zeros((2, num))\n",
    "    norm_params[0] = X.mean(axis = 0)\n",
    "    norm_params [1] = X.std(axis = 0, ddof = 1)\n",
    "    norm_X = (X - norm_params[0]) / norm_params [1]\n",
    "    \n",
    "    return norm_X, norm_params"
   ]
  },
  {
   "cell_type": "code",
   "execution_count": 4,
   "metadata": {
    "collapsed": true
   },
   "outputs": [],
   "source": [
    "def transform(X, n_components):\n",
    "    '''\n",
    "        Select components with largest variance:\n",
    "            1) Estimate covariance matrix\n",
    "            2) Find its eigenvalues and eigenvectors\n",
    "            3) Check if eigenvalues are complex -> to real space\n",
    "            4) Sort vals & vectors\n",
    "            5) Select n components\n",
    "            5) Project all data on the selected components  \n",
    "    '''\n",
    "    cov = np.dot(X.T, X) / len(X)\n",
    "    \n",
    "    e_val, e_vect = np.linalg.eig(cov)\n",
    "    \n",
    "    e_val = np.absolute(e_val)\n",
    "    \n",
    "    ind = np.argsort(-e_val)\n",
    "    e_vect = e_vect[:, ind]\n",
    "    e_vect = e_vect.astype(float)\n",
    "    \n",
    "    e_vect_reduced = e_vect[:, :n_components]\n",
    "    new_X = np.dot(X, e_vect_reduced)\n",
    "    return new_X, e_vect_reduced"
   ]
  },
  {
   "cell_type": "code",
   "execution_count": 12,
   "metadata": {
    "collapsed": true
   },
   "outputs": [],
   "source": [
    "def restore(X_reduced, evect_reduced, norm_params):\n",
    "    '''\n",
    "        Restore \"original\" values:\n",
    "            1) Restore original size\n",
    "            2) Rescale\n",
    "    '''\n",
    "    X_rest = np.dot(X_reduced, evect_reduced.T)\n",
    "    X_rest = (X_rest * norm_params[1]) + norm_params[0]\n",
    "    return X_rest"
   ]
  },
  {
   "cell_type": "markdown",
   "metadata": {},
   "source": [
    "## All processing"
   ]
  },
  {
   "cell_type": "markdown",
   "metadata": {},
   "source": [
    "### Simple data"
   ]
  },
  {
   "cell_type": "code",
   "execution_count": 13,
   "metadata": {
    "collapsed": true
   },
   "outputs": [],
   "source": [
    "points = 10\n",
    "X = np.zeros((points,2))\n",
    "x = np.arange(1,points+1)\n",
    "y = 4 * x *x + np.random.randn(points)*2\n",
    "X[:,1] = y\n",
    "X[:,0] = x\n",
    "number_of_components = 1"
   ]
  },
  {
   "cell_type": "code",
   "execution_count": 14,
   "metadata": {},
   "outputs": [],
   "source": [
    "# normalization\n",
    "X_norm, norm_params = normalize(np.copy(X))\n",
    "\n",
    "# dimension reduction\n",
    "X_reduced, evect_reduced = transform(X_norm, number_of_components)\n",
    "\n",
    "# restoring dimensions\n",
    "restored_X = restore(X_reduced, evect_reduced,norm_params )"
   ]
  },
  {
   "cell_type": "markdown",
   "metadata": {},
   "source": [
    "### Visualization"
   ]
  },
  {
   "cell_type": "code",
   "execution_count": 15,
   "metadata": {},
   "outputs": [
    {
     "data": {
      "image/png": "[encoded data removed]",
      "text/plain": [
       "<matplotlib.figure.Figure at 0x10b4ede10>"
      ]
     },
     "metadata": {},
     "output_type": "display_data"
    },
    {
     "data": {
      "image/png": "[encoded data removed]",
      "text/plain": [
       "<matplotlib.figure.Figure at 0x11055d550>"
      ]
     },
     "metadata": {},
     "output_type": "display_data"
    }
   ],
   "source": [
    "plt.figure()\n",
    "plt.scatter(X[:, 0], X[:, 1], color='c', label='Initial')\n",
    "plt.scatter(restored_X[:, 0], restored_X[:, 1], color='y', label='Restored')\n",
    "plt.legend(loc='best')\n",
    "plt.xlabel('x')\n",
    "plt.ylabel('y')\n",
    "plt.show()"
   ]
  },
  {
   "cell_type": "markdown",
   "metadata": {},
   "source": [
    "## Try use PCA on image"
   ]
  },
  {
   "cell_type": "code",
   "execution_count": 20,
   "metadata": {},
   "outputs": [
    {
     "name": "stderr",
     "output_type": "stream",
     "text": [
      "/anaconda3/lib/python3.6/site-packages/ipykernel_launcher.py:19: ComplexWarning: Casting complex values to real discards the imaginary part\n"
     ]
    }
   ],
   "source": [
    "from PIL import Image\n",
    "number_of_components_image = 100\n",
    "\n",
    "# read image \n",
    "img = Image.open('pct.jpg')\n",
    "# black & white transformation\n",
    "img = img.convert('L')\n",
    "\n",
    "# create numpy array\n",
    "img_X = (np.copy(np.asarray(img))).astype(float)\n",
    "\n",
    "# normalization\n",
    "X_norm_img, norm_params = normalize(img_X)\n",
    "\n",
    "# dimension reduction\n",
    "X_reduced_img, evect_reduced = transform(X_norm_img, number_of_components_image)\n",
    "\n",
    "# dimension restoring\n",
    "X_restored_img = restore(X_reduced_img, evect_reduced, norm_params)\n",
    "\n",
    "# create from restored array\n",
    "restored_img = Image.fromarray(X_restored_img.astype(\"uint8\"))\n",
    "\n",
    "img.show()\n",
    "restored_img.show()"
   ]
  },
  {
   "cell_type": "code",
   "execution_count": null,
   "metadata": {
    "collapsed": true
   },
   "outputs": [],
   "source": []
  },
  {
   "cell_type": "code",
   "execution_count": null,
   "metadata": {
    "collapsed": true
   },
   "outputs": [],
   "source": []
  }
 ],
 "metadata": {
  "kernelspec": {
   "display_name": "Python 3",
   "language": "python",
   "name": "python3"
  },
  "language_info": {
   "codemirror_mode": {
    "name": "ipython",
    "version": 3
   },
   "file_extension": ".py",
   "mimetype": "text/x-python",
   "name": "python",
   "nbconvert_exporter": "python",
   "pygments_lexer": "ipython3",
   "version": "3.6.3"
  }
 },
 "nbformat": 4,
 "nbformat_minor": 1
}
