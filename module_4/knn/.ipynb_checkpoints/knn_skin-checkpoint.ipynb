{
 "cells": [
  {
   "cell_type": "markdown",
   "metadata": {},
   "source": [
    "# KNN"
   ]
  },
  {
   "cell_type": "code",
   "execution_count": 2,
   "metadata": {
    "collapsed": true
   },
   "outputs": [],
   "source": [
    "import numpy as np\n",
    "import pandas as pd\n",
    "import time\n",
    "from scipy.spatial.distance import euclidean\n",
    "from scipy import stats\n",
    "from matplotlib import pyplot as plt\n",
    "\n",
    "\n",
    "import scipy as sp\n",
    "from matplotlib import patches as mpatches"
   ]
  },
  {
   "cell_type": "markdown",
   "metadata": {},
   "source": [
    "### Data Set Information:\n",
    "\n",
    "The skin dataset is collected by randomly sampling B,G,R values from face images of various age groups (young, middle, and old), race groups (white, black, and asian), and genders obtained from FERET database and PAL database. Total learning sample size is 245057; out of which 50859 is the skin samples and 194198 is non-skin samples. Color FERET Image Database: [Web Link], PAL Face Database from Productive Aging Laboratory, The University of Texas at Dallas: [Web Link]. \n",
    "\n",
    "\n",
    "### Attribute Information:\n",
    "\n",
    "This dataset is of the dimension 245057 * 4 where first three columns are B,G,R (x1,x2, and x3 features) values and fourth column is of the class labels (decision variable y)."
   ]
  },
  {
   "cell_type": "markdown",
   "metadata": {},
   "source": [
    "### Training and Testing Split"
   ]
  },
  {
   "cell_type": "code",
   "execution_count": 18,
   "metadata": {},
   "outputs": [],
   "source": [
    "def splitDataset(data, splitRatio, number_of_rows):\n",
    "    # Shuffled data\n",
    "    data_copy = data.copy()\n",
    "    np.random.shuffle(data_copy)\n",
    "    \n",
    "    # Cut dataset:\n",
    "    data_part = data_copy[:int(number_of_rows)]\n",
    "    \n",
    "    # Training set size \n",
    "    trainSize = int(len(data_part) * splitRatio)\n",
    "    \n",
    "    #Split data\n",
    "    data_train = data_part[: trainSize]\n",
    "    data_test = data_part[trainSize : data.shape[0]]\n",
    "    \n",
    "    return data_train, data_test"
   ]
  },
  {
   "cell_type": "markdown",
   "metadata": {},
   "source": [
    "### Clasification"
   ]
  },
  {
   "cell_type": "code",
   "execution_count": 19,
   "metadata": {},
   "outputs": [],
   "source": [
    "def calc_all_distancies(data_x, unknown):\n",
    "    '''\n",
    "        Function calculates distancies between each pairs of known and unknown points\n",
    "    '''\n",
    "    num_pred = unknown.shape[0]\n",
    "    num_data = data_x.shape[0]\n",
    "    dists = np.zeros((num_pred, num_data))\n",
    "    for i in range(num_pred):\n",
    "        for j in range(num_data):\n",
    "            dists[i,j] = euclidean(unknown[i], data_x[j])\n",
    "    return dists"
   ]
  },
  {
   "cell_type": "code",
   "execution_count": 20,
   "metadata": {
    "collapsed": true
   },
   "outputs": [],
   "source": [
    "def predict(dists, train_Y, k):\n",
    "    '''\n",
    "        Function predicts the class of the unknown point by the k nearest neighbours\n",
    "    '''\n",
    "    num_pred = dists.shape[0]\n",
    "    y_pred = np.zeros(num_pred)\n",
    "    for j in range(num_pred):\n",
    "        dst = dists[j]\n",
    "        closest_x = np.argsort(dst)\n",
    "        x_k = closest_x[:k]\n",
    "        closest_y = train_Y[x_k]\n",
    "        y_pred[j] = stats.mode(closest_y,None).mode\n",
    "    return y_pred"
   ]
  },
  {
   "cell_type": "code",
   "execution_count": 21,
   "metadata": {
    "collapsed": true
   },
   "outputs": [],
   "source": [
    "def accuracy(predicted,real):\n",
    "    '''\n",
    "        Calculates accuracy percentage\n",
    "    '''\n",
    "    ind = predicted == real\n",
    "    l = len(ind)\n",
    "    s = sum(ind)\n",
    "    return 100*s/l"
   ]
  },
  {
   "cell_type": "code",
   "execution_count": 22,
   "metadata": {
    "collapsed": true
   },
   "outputs": [],
   "source": [
    "def compare_k(data_x, data_y, test_x, test_y, kmin=1, kmax=50, kstep=4):\n",
    "    '''\n",
    "        Main comparing function\n",
    "    '''\n",
    "    k = list(range(kmin, kmax, kstep))\n",
    "    steps = len(k)\n",
    "    features = np.zeros((steps,3))\n",
    "    \n",
    "    print('Evaluating distancies started')\n",
    "    \n",
    "    t0 = time.time()\n",
    "    distancies = calc_all_distancies(data_x, test_x)\n",
    "    miss = []\n",
    "    t = time.time()\n",
    "    s1 = data_x.shape[0]\n",
    "    s2 = test_x.shape[0]\n",
    "    \n",
    "    print('Distancies completed in %d seconds for %dx%d' %(t-t0,s1,s2))\n",
    "    \n",
    "    for j in range(steps):\n",
    "        t0 = time.time()\n",
    "        yk = predict(distancies,data_y,k[j])\n",
    "        t = time.time() - t0\n",
    "        features[j][0] = k[j]\n",
    "        features[j][1] = accuracy(yk,test_y)\n",
    "        features[j][2] = t\n",
    "        cond = yk!=test_y\n",
    "        miss.append({\n",
    "            'k':k[j],\n",
    "            'acc':features[j][1],\n",
    "            'x':test_x[cond]}\n",
    "        )\n",
    "        \n",
    "        print('k={0}, accuracy = {1}%, time = {2} sec'.format(k[j],features[j][1],features[j][2]))\n",
    "        \n",
    "    return features, miss"
   ]
  },
  {
   "cell_type": "code",
   "execution_count": 39,
   "metadata": {
    "collapsed": true
   },
   "outputs": [],
   "source": [
    "def main():\n",
    "    # Load dataset and return numpy array\n",
    "    data = np.genfromtxt(\"Skin_NonSkin.txt\", delimiter = \"\\t\")\n",
    "    print('Data shape: ', data.shape)\n",
    "    \n",
    "    # Set split ratio\n",
    "    splitRatio = 0.80\n",
    "    \n",
    "    # Set number of rows (data set is too big to use all)\n",
    "    number_of_rows = 700\n",
    "    \n",
    "    # Print some info about dataset    \n",
    "    s_data = data[data[ : , 3] == 1]\n",
    "    ns_data = data[data[ : , 3] == 2]\n",
    "\n",
    "    print(\"Total Skin data: \" + str(s_data.shape))\n",
    "    print(\"Total Non-Skin data: \" + str(ns_data.shape) + '\\n')\n",
    "    \n",
    "    skin_data = data[data[ : , 3] == 1]\n",
    "    print(\"min of skin colors: \" + str(skin_data[ : , 2].min()))\n",
    "    print(\"max of skin colors: \" + str(skin_data[ : , 2].max()) + '\\n')\n",
    "    \n",
    "    # Split dataset\n",
    "    data_train, data_test = splitDataset(data, splitRatio, number_of_rows)\n",
    "    train_Y = data_train[:, -1]\n",
    "    train_X = data_train[:, range(0, 3)]\n",
    "    test_Y = data_test[:, -1]\n",
    "    test_X = data_test[:, range(0, 3)]\n",
    "    print('Split {0} rows into train={1} rows and test={2} rows'.format(len(data), len(train_X), len(test_X)) + '\\n')\n",
    "    \n",
    "    # Calculate distancies & compare result for different k\n",
    "    res, ms = compare_k(train_X, train_Y, test_X, test_Y, 1, 200, 10)\n",
    "    \n",
    "    # accuracy plot\n",
    "    k = plt.plot(res[:, 0], res[:, 1])\n",
    "    plt.ylim(min(res[:, 1]) - 2, max(res[:, 1])+1, 4)\n",
    "    plt.xlabel('k')\n",
    "    plt.ylabel('accuracy, %')\n",
    "    plt.show()\n",
    "    "
   ]
  },
  {
   "cell_type": "code",
   "execution_count": 40,
   "metadata": {},
   "outputs": [
    {
     "name": "stdout",
     "output_type": "stream",
     "text": [
      "Data shape:  (245057, 4)\n",
      "Total Skin data: (50859, 4)\n",
      "Total Non-Skin data: (194198, 4)\n",
      "\n",
      "min of skin colors: 106.0\n",
      "max of skin colors: 255.0\n",
      "\n",
      "Split 245057 rows into train=560 rows and test=140 rows\n",
      "\n",
      "Evaluating distancies started\n",
      "Distancies completed in 1 seconds for 560x140\n",
      "k=1, accuracy = 99.28571428571429%, time = 0.018558025360107422 sec\n",
      "k=11, accuracy = 96.42857142857143%, time = 0.013742208480834961 sec\n",
      "k=21, accuracy = 94.28571428571429%, time = 0.016499996185302734 sec\n",
      "k=31, accuracy = 94.28571428571429%, time = 0.014056921005249023 sec\n",
      "k=41, accuracy = 94.28571428571429%, time = 0.016827106475830078 sec\n",
      "k=51, accuracy = 94.28571428571429%, time = 0.012486696243286133 sec\n",
      "k=61, accuracy = 94.28571428571429%, time = 0.013076066970825195 sec\n",
      "k=71, accuracy = 94.28571428571429%, time = 0.013615846633911133 sec\n",
      "k=81, accuracy = 92.14285714285714%, time = 0.013488054275512695 sec\n",
      "k=91, accuracy = 91.42857142857143%, time = 0.014428138732910156 sec\n",
      "k=101, accuracy = 90.71428571428571%, time = 0.01520681381225586 sec\n",
      "k=111, accuracy = 90.0%, time = 0.01896977424621582 sec\n",
      "k=121, accuracy = 89.28571428571429%, time = 0.013823986053466797 sec\n",
      "k=131, accuracy = 87.85714285714286%, time = 0.014966726303100586 sec\n",
      "k=141, accuracy = 81.42857142857143%, time = 0.01580500602722168 sec\n",
      "k=151, accuracy = 81.42857142857143%, time = 0.020953893661499023 sec\n",
      "k=161, accuracy = 82.14285714285714%, time = 0.029146909713745117 sec\n",
      "k=171, accuracy = 79.28571428571429%, time = 0.026884078979492188 sec\n",
      "k=181, accuracy = 78.57142857142857%, time = 0.03322315216064453 sec\n",
      "k=191, accuracy = 77.85714285714286%, time = 0.026660919189453125 sec\n"
     ]
    },
    {
     "data": {
      "image/png": "[encoded data removed]",
      "text/plain": [
       "<matplotlib.figure.Figure at 0x121ca27b8>"
      ]
     },
     "metadata": {},
     "output_type": "display_data"
    }
   ],
   "source": [
    "main()"
   ]
  },
  {
   "cell_type": "code",
   "execution_count": null,
   "metadata": {
    "collapsed": true
   },
   "outputs": [],
   "source": []
  }
 ],
 "metadata": {
  "kernelspec": {
   "display_name": "Python 3",
   "language": "python",
   "name": "python3"
  },
  "language_info": {
   "codemirror_mode": {
    "name": "ipython",
    "version": 3
   },
   "file_extension": ".py",
   "mimetype": "text/x-python",
   "name": "python",
   "nbconvert_exporter": "python",
   "pygments_lexer": "ipython3",
   "version": "3.6.3"
  }
 },
 "nbformat": 4,
 "nbformat_minor": 2
}
