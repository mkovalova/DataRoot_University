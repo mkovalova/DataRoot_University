{
 "cells": [
  {
   "cell_type": "markdown",
   "metadata": {},
   "source": [
    "## SVM Checker"
   ]
  },
  {
   "cell_type": "code",
   "execution_count": 2,
   "metadata": {},
   "outputs": [
    {
     "name": "stdout",
     "output_type": "stream",
     "text": [
      "Collecting cvxopt\n",
      "  Downloading cvxopt-1.1.9-cp36-cp36m-macosx_10_6_intel.macosx_10_9_intel.macosx_10_9_x86_64.macosx_10_10_intel.macosx_10_10_x86_64.whl (5.5MB)\n",
      "\u001b[K    100% |████████████████████████████████| 5.6MB 245kB/s ta 0:00:011\n",
      "\u001b[?25hInstalling collected packages: cvxopt\n",
      "Successfully installed cvxopt-1.1.9\n"
     ]
    }
   ],
   "source": [
    "!pip install cvxopt"
   ]
  },
  {
   "cell_type": "code",
   "execution_count": 1,
   "metadata": {
    "collapsed": true
   },
   "outputs": [],
   "source": [
    "%matplotlib inline\n",
    "\n",
    "import svm\n",
    "import numpy as np\n",
    "import matplotlib.pyplot as plt\n",
    "import matplotlib.cm as cm\n",
    "import itertools"
   ]
  },
  {
   "cell_type": "code",
   "execution_count": 2,
   "metadata": {
    "collapsed": true
   },
   "outputs": [],
   "source": [
    "def example_linear(num_samples = 100, num_features = 2, grid_size = 20):\n",
    "    \n",
    "    samples = np.matrix(np.random.normal(size=num_samples * num_features)\n",
    "                        .reshape(num_samples, num_features))\n",
    "    \n",
    "    labels = 2 * (samples.sum(axis=1) > 0) - 1.0\n",
    "    \n",
    "    trainer = svm.SVMTrainer(svm.Kernel.linear())\n",
    "    \n",
    "    predictor = trainer.train(samples, labels)\n",
    "\n",
    "    plot(predictor, samples, labels, grid_size)"
   ]
  },
  {
   "cell_type": "code",
   "execution_count": 3,
   "metadata": {
    "collapsed": true
   },
   "outputs": [],
   "source": [
    "def plot(predictor, X, y, grid_size):\n",
    "    \n",
    "    x_min, x_max = X[:, 0].min() - 1, X[:, 0].max() + 1\n",
    "    y_min, y_max = X[:, 1].min() - 1, X[:, 1].max() + 1\n",
    "    \n",
    "    xx, yy = np.meshgrid(\n",
    "        np.linspace(x_min, x_max, grid_size),\n",
    "        np.linspace(y_min, y_max, grid_size),\n",
    "        indexing='ij'\n",
    "    )\n",
    "    \n",
    "    flatten = lambda m: np.array(m).reshape(-1,)\n",
    "\n",
    "    result = []\n",
    "    \n",
    "    for (i, j) in itertools.product(range(grid_size), range(grid_size)):\n",
    "        point = np.array([xx[i, j], yy[i, j]]).reshape(1, 2)\n",
    "        result.append(predictor.predict(point))\n",
    "\n",
    "    Z = np.array(result).reshape(xx.shape)\n",
    "    \n",
    "    plt.contourf(\n",
    "        xx, yy, Z,\n",
    "        cmap=cm.Paired,\n",
    "        levels=[-0.01, 0.01],\n",
    "        extend='both',\n",
    "        alpha=0.8\n",
    "    )\n",
    "    \n",
    "    \n",
    "    plt.scatter(\n",
    "        flatten(X[:, 0]),\n",
    "        flatten(X[:, 1]),\n",
    "        c=flatten(y),\n",
    "        cmap=cm.Paired\n",
    "    )\n",
    "    \n",
    "    plt.xlim(x_min, x_max)\n",
    "    plt.ylim(y_min, y_max)"
   ]
  },
  {
   "cell_type": "code",
   "execution_count": 4,
   "metadata": {},
   "outputs": [
    {
     "name": "stdout",
     "output_type": "stream",
     "text": [
      "[[ 0.11407418 -0.33341967]\n",
      " [-0.78058242 -0.26226274]\n",
      " [ 0.23735513  1.81560886]\n",
      " [ 0.2205798   0.92912064]\n",
      " [ 1.67184576  0.09853   ]\n",
      " [ 0.7229624   0.80431462]\n",
      " [ 0.19741231 -0.78988367]\n",
      " [ 1.48347733 -0.02422902]\n",
      " [ 1.02453599  0.90718809]\n",
      " [ 0.21689955  1.54014684]\n",
      " [-2.15364835  0.67750305]\n",
      " [-0.08017432 -1.05210769]\n",
      " [-0.25001854 -1.45674099]\n",
      " [ 0.27750648  0.04129561]\n",
      " [-1.39467724  0.49629384]\n",
      " [-0.09160803  1.07808581]\n",
      " [-1.24652707 -1.15132734]\n",
      " [-0.14537789  0.3473397 ]\n",
      " [ 0.1628512   0.44147139]\n",
      " [-0.25362503 -0.35111141]\n",
      " [ 0.44199479  1.42471152]\n",
      " [-0.80118745 -0.41595643]\n",
      " [-0.12212869  0.79613793]\n",
      " [-0.90178704 -0.40805644]\n",
      " [-1.19964931  2.55372991]\n",
      " [ 0.87159242  0.37015701]\n",
      " [-0.67895893 -1.84514777]\n",
      " [ 1.73302363 -0.87103603]\n",
      " [-1.0910295  -0.69820046]\n",
      " [-0.15059883 -1.06620345]\n",
      " [ 0.58630312 -0.32917555]\n",
      " [ 0.4415141   0.69242267]\n",
      " [-0.63572378 -1.60409637]\n",
      " [ 0.31319364 -0.05287473]\n",
      " [ 0.34241874  1.08241713]\n",
      " [-0.12375303  0.1101463 ]\n",
      " [ 1.69712767 -0.23358093]\n",
      " [ 0.04080171  1.09044517]\n",
      " [ 2.23486393  0.09547121]\n",
      " [-0.92892119 -0.24655388]\n",
      " [ 1.12325323 -0.83508786]\n",
      " [-1.23368256  0.57036569]\n",
      " [-0.67398121 -0.15406299]\n",
      " [ 0.65171155  0.84392743]\n",
      " [-1.78913491 -0.88285148]\n",
      " [-1.15946248  0.05492504]\n",
      " [-0.93242188 -0.4030567 ]\n",
      " [ 0.06270063  0.66410699]\n",
      " [ 0.15560298  1.97283879]\n",
      " [-1.29279775  0.62830623]\n",
      " [ 1.80671792 -0.29141979]\n",
      " [-0.62743146  1.56202827]\n",
      " [ 0.98058439  0.12197697]\n",
      " [-0.29969088 -0.12341985]\n",
      " [ 0.51123162  0.22375751]\n",
      " [-0.78564666 -0.67018114]\n",
      " [ 0.00548109  1.07582735]\n",
      " [ 0.8163042   1.60376014]\n",
      " [ 0.46834884  0.394659  ]\n",
      " [-0.49658897 -1.1743815 ]\n",
      " [ 0.33317655  1.00758785]\n",
      " [-0.01112968 -1.34660295]\n",
      " [ 0.05549139 -0.3315992 ]\n",
      " [-0.60403598  0.63438223]\n",
      " [-0.79454692 -1.32278348]\n",
      " [ 0.06614954  0.71794703]\n",
      " [-0.35797489  0.62970119]\n",
      " [ 1.83659353  0.02477061]\n",
      " [-0.81773222  0.01743992]\n",
      " [ 0.80741614  2.4685877 ]\n",
      " [ 1.19409441 -0.03769546]\n",
      " [ 0.44136322 -0.45423873]\n",
      " [ 0.78608481  1.42626991]\n",
      " [-1.65959695 -0.67180095]\n",
      " [-1.22812543 -0.227212  ]\n",
      " [-1.12064484 -1.06868482]\n",
      " [-1.01424778  0.1419789 ]\n",
      " [ 0.36837349 -1.13075005]\n",
      " [-1.12422354  1.99997357]\n",
      " [-2.17587224  2.06342232]\n",
      " [ 1.02415574 -0.47506468]\n",
      " [-0.66464234 -0.27768331]\n",
      " [ 0.70635861 -1.12965422]\n",
      " [ 0.22294469 -0.83948083]\n",
      " [-0.40352937  0.85692824]\n",
      " [-0.8406128  -0.94331942]\n",
      " [ 0.36804833 -0.93938946]\n",
      " [-1.22723585  0.80505233]\n",
      " [ 0.95509218  1.75844624]\n",
      " [-0.49410552  0.35938169]\n",
      " [ 0.58159976  0.8345978 ]\n",
      " [ 1.32025058 -0.44821716]\n",
      " [ 0.99293456 -0.56147963]\n",
      " [ 1.29134039  0.08362843]\n",
      " [-0.61119207  0.3781575 ]\n",
      " [ 1.87578783 -0.80875148]\n",
      " [ 0.58699991  0.66936527]\n",
      " [-0.64253036  0.40405756]\n",
      " [-0.86499037 -0.07846315]\n",
      " [-0.87871626  0.11282931]]\n",
      "     pcost       dcost       gap    pres   dres\n",
      " 0: -2.6786e+01 -5.6899e+01  4e+02  2e+01  2e+00\n",
      " 1: -6.0564e+01 -7.3238e+01  2e+02  1e+01  1e+00\n",
      " 2: -1.5139e+02 -1.6420e+02  2e+02  1e+01  1e+00\n",
      " 3: -7.8106e+02 -7.6508e+02  2e+02  9e+00  1e+00\n",
      " 4: -2.1257e+03 -2.0482e+03  4e+02  9e+00  9e-01\n",
      " 5: -4.4245e+02 -6.9603e+02  1e+03  7e+00  8e-01\n",
      " 6: -7.5064e+02 -9.7479e+02  1e+03  6e+00  6e-01\n",
      " 7: -1.2363e+03 -1.1037e+03  4e+02  2e+00  2e-01\n",
      " 8: -8.4161e+02 -8.5390e+02  1e+01  2e-13  2e-13\n",
      " 9: -8.4694e+02 -8.4706e+02  1e-01  3e-14  1e-13\n",
      "10: -8.4699e+02 -8.4699e+02  1e-03  1e-13  1e-13\n",
      "11: -8.4699e+02 -8.4699e+02  1e-05  3e-13  2e-13\n",
      "Optimal solution found.\n"
     ]
    },
    {
     "data": {
      "image/png": "[encoded data removed]",
      "text/plain": [
       "<matplotlib.figure.Figure at 0x114724780>"
      ]
     },
     "metadata": {},
     "output_type": "display_data"
    }
   ],
   "source": [
    "example_linear()"
   ]
  },
  {
   "cell_type": "code",
   "execution_count": null,
   "metadata": {
    "collapsed": true
   },
   "outputs": [],
   "source": []
  }
 ],
 "metadata": {
  "kernelspec": {
   "display_name": "Python 3",
   "language": "python",
   "name": "python3"
  },
  "language_info": {
   "codemirror_mode": {
    "name": "ipython",
    "version": 3
   },
   "file_extension": ".py",
   "mimetype": "text/x-python",
   "name": "python",
   "nbconvert_exporter": "python",
   "pygments_lexer": "ipython3",
   "version": "3.6.3"
  }
 },
 "nbformat": 4,
 "nbformat_minor": 2
}
